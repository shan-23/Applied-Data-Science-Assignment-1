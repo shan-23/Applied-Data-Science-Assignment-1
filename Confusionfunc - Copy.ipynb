
from sklearn.metrics import confusion_matrix
import seaborn as sns
import matplotlib.pyplot as plt

def sns_cm(y, y_hat):


    Symp_prediction = y.unique().tolist()
    

    cm = confusion_matrix(y, y_hat, labels=Symp_prediction)
    

    plt.figure(figsize=(20,18))
    sns.heatmap(data=cm, annot=True, xticklabels=Symp_prediction, yticklabels=Symp_prediction, 
                     cbar=False, linewidths=.6, cmap=['purple', 'yellow'])
    plt.xticks(fontsize=20)
    plt.yticks(fontsize=20)
    plt.xlabel('Actual',fontsize=20)
    plt.ylabel('Predicted',fontsize=20)
    plt.title('Disease Predictor/Confusion Matrix',fontsize=40)
    plt.show()